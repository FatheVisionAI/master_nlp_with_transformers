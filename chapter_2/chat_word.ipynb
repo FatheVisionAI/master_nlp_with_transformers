{
 "cells": [
  {
   "cell_type": "code",
   "execution_count": 1,
   "metadata": {},
   "outputs": [],
   "source": [
    "from nltk.tokenize import word_tokenize "
   ]
  },
  {
   "cell_type": "code",
   "execution_count": 2,
   "metadata": {},
   "outputs": [],
   "source": [
    "text = \"Hey! BRB, LOL. OMG, that's IMHO gr8 BTW, TMI. ROFL! ICYMI.\" "
   ]
  },
  {
   "cell_type": "code",
   "execution_count": 3,
   "metadata": {},
   "outputs": [],
   "source": [
    "text = text.lower() "
   ]
  },
  {
   "cell_type": "code",
   "execution_count": 4,
   "metadata": {},
   "outputs": [],
   "source": [
    "abbreviations = {\n",
    "    \"brb\": \"Be Right Back\",\n",
    "    \"lol\": \"Laugh Out Loud\",\n",
    "    \"omg\": \"Oh My God\",\n",
    "    \"imho\": \"In My Humble Opinion\",\n",
    "    \"btw\": \"By The Way\",\n",
    "    \"tmi\": \"Too Much Information\",\n",
    "    \"rofl\": \"Rolling On the Floor Laughing\",\n",
    "    \"icymi\": \"In Case You Missed It\",\n",
    "    \"gr8\": \"great\"\n",
    "} \n"
   ]
  },
  {
   "cell_type": "code",
   "execution_count": 5,
   "metadata": {},
   "outputs": [],
   "source": [
    "tokens = word_tokenize(text) "
   ]
  },
  {
   "cell_type": "code",
   "execution_count": 6,
   "metadata": {},
   "outputs": [],
   "source": [
    "new_tokens = []  \n",
    "for token in tokens:\n",
    "    if token.isalnum():\n",
    "        if token in abbreviations:\n",
    "            new_tokens.append(abbreviations[token])\n",
    "        else: \n",
    "            new_tokens.append(token)"
   ]
  },
  {
   "cell_type": "code",
   "execution_count": 7,
   "metadata": {},
   "outputs": [
    {
     "name": "stdout",
     "output_type": "stream",
     "text": [
      "Original Text: \n",
      " hey! brb, lol. omg, that's imho gr8 btw, tmi. rofl! icymi.\n",
      "\n",
      "after chat word: \n",
      "  hey Be Right Back Laugh Out Loud Oh My God that In My Humble Opinion great By The Way Too Much Information Rolling On the Floor Laughing In Case You Missed It\n"
     ]
    }
   ],
   "source": [
    "print(\"Original Text: \\n\", text)\n",
    "print()\n",
    "print(\"after chat word: \\n \",' '.join(new_tokens))"
   ]
  },
  {
   "cell_type": "code",
   "execution_count": null,
   "metadata": {},
   "outputs": [],
   "source": []
  },
  {
   "cell_type": "code",
   "execution_count": null,
   "metadata": {},
   "outputs": [],
   "source": []
  }
 ],
 "metadata": {
  "kernelspec": {
   "display_name": "Python 3",
   "language": "python",
   "name": "python3"
  },
  "language_info": {
   "codemirror_mode": {
    "name": "ipython",
    "version": 3
   },
   "file_extension": ".py",
   "mimetype": "text/x-python",
   "name": "python",
   "nbconvert_exporter": "python",
   "pygments_lexer": "ipython3",
   "version": "3.12.3"
  }
 },
 "nbformat": 4,
 "nbformat_minor": 2
}
