{
 "cells": [
  {
   "cell_type": "code",
   "execution_count": 1,
   "metadata": {},
   "outputs": [],
   "source": [
    "from nltk.tokenize import word_tokenize"
   ]
  },
  {
   "cell_type": "code",
   "execution_count": 2,
   "metadata": {},
   "outputs": [],
   "source": [
    "text = \" Punctuation marks guide the flow of language, indicating pauses, endings, and emotions. Punctuation is incredible! It adds flavor to language. Do you agree? With this kind of things.\""
   ]
  },
  {
   "cell_type": "code",
   "execution_count": 3,
   "metadata": {},
   "outputs": [
    {
     "name": "stdout",
     "output_type": "stream",
     "text": [
      "original text \n",
      "  Punctuation marks guide the flow of language, indicating pauses, endings, and emotions. Punctuation is incredible! It adds flavor to language. Do you agree? With this kind of things.\n"
     ]
    }
   ],
   "source": [
    "print(\"original text \\n\", text)"
   ]
  },
  {
   "cell_type": "code",
   "execution_count": 4,
   "metadata": {},
   "outputs": [],
   "source": [
    "tokens = word_tokenize(text) "
   ]
  },
  {
   "cell_type": "code",
   "execution_count": 5,
   "metadata": {},
   "outputs": [],
   "source": [
    "tokens_without_puch = []\n",
    "for token in tokens:\n",
    "    if token.isalnum():\n",
    "        tokens_without_puch.append(token)\n"
   ]
  },
  {
   "cell_type": "code",
   "execution_count": 6,
   "metadata": {},
   "outputs": [
    {
     "name": "stdout",
     "output_type": "stream",
     "text": [
      "without punctuation text \n",
      " Punctuation marks guide the flow of language indicating pauses endings and emotions Punctuation is incredible It adds flavor to language Do you agree With this kind of things\n"
     ]
    }
   ],
   "source": [
    "\n",
    "print(\"without punctuation text \\n\",\" \".join(tokens_without_puch))"
   ]
  },
  {
   "cell_type": "code",
   "execution_count": null,
   "metadata": {},
   "outputs": [],
   "source": []
  }
 ],
 "metadata": {
  "kernelspec": {
   "display_name": "Python 3",
   "language": "python",
   "name": "python3"
  },
  "language_info": {
   "codemirror_mode": {
    "name": "ipython",
    "version": 3
   },
   "file_extension": ".py",
   "mimetype": "text/x-python",
   "name": "python",
   "nbconvert_exporter": "python",
   "pygments_lexer": "ipython3",
   "version": "3.12.3"
  }
 },
 "nbformat": 4,
 "nbformat_minor": 2
}
