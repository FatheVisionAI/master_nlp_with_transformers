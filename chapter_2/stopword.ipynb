{
 "cells": [
  {
   "cell_type": "code",
   "execution_count": 1,
   "metadata": {},
   "outputs": [],
   "source": [
    "from nltk.tokenize import word_tokenize\n",
    "from nltk.corpus import stopwords"
   ]
  },
  {
   "cell_type": "code",
   "execution_count": 2,
   "metadata": {},
   "outputs": [],
   "source": [
    "stop_words = set(stopwords.words('english'))"
   ]
  },
  {
   "cell_type": "code",
   "execution_count": 3,
   "metadata": {},
   "outputs": [
    {
     "name": "stdout",
     "output_type": "stream",
     "text": [
      "{'i', 'my', 'has', 'under', 'ma', 'weren', 'nor', 'not', \"aren't\", 'ourselves', 'myself', 'and', 'in', 'during', 'with', 'these', 'them', 'theirs', 'out', 'on', \"wouldn't\", 'me', 'very', \"you'll\", 'now', 'where', 'or', 'too', 'ain', \"mustn't\", 'other', 'itself', 'can', 'some', 'here', \"needn't\", \"she's\", 'from', 'that', 'before', 'off', 't', 'll', 'wouldn', 've', 'both', 'needn', 'below', 'for', 'does', 'yours', \"doesn't\", 'just', 're', 'her', 'mustn', 'won', 'have', \"mightn't\", 'been', 'how', \"that'll\", 'didn', 'be', \"don't\", 'is', 'had', 'own', \"weren't\", 'm', 'couldn', 'over', 'than', 'all', 'an', 'you', 'his', \"hadn't\", 'are', 'there', 'as', 'themselves', 'through', 's', 'd', 'above', 'she', 'being', 'yourself', 'who', 'further', 'such', 'aren', 'wasn', 'between', 'whom', 'their', 'having', 'y', 'your', 'then', 'he', 'few', 'of', 'against', 'no', 'the', 'into', \"couldn't\", 'do', \"should've\", 'what', 'shouldn', 'this', \"won't\", 'more', 'because', 'only', 'it', \"you've\", 'after', 'but', 'when', 'which', 'o', 'once', 'don', 'those', 'down', 'why', 'hadn', 'again', 'hers', \"shan't\", \"you're\", 'shan', 'am', 'most', 'so', 'at', 'while', 'were', 'mightn', 'doesn', \"wasn't\", 'up', 'by', 'we', 'ours', 'if', 'until', 'did', 'they', 'each', 'herself', 'isn', 'hasn', \"hasn't\", \"it's\", 'any', \"haven't\", 'will', \"you'd\", 'should', 'a', 'haven', 'about', 'yourselves', \"shouldn't\", 'was', 'himself', 'our', 'its', 'same', 'doing', \"didn't\", \"isn't\", 'him', 'to'}\n"
     ]
    }
   ],
   "source": [
    "print(stop_words)"
   ]
  },
  {
   "cell_type": "code",
   "execution_count": 4,
   "metadata": {},
   "outputs": [],
   "source": [
    "text = \"Stop words may be small, but they play a big role in NLP.\" \n",
    "test = text.lower()"
   ]
  },
  {
   "cell_type": "code",
   "execution_count": 5,
   "metadata": {},
   "outputs": [],
   "source": [
    "tokens = word_tokenize(text)"
   ]
  },
  {
   "cell_type": "code",
   "execution_count": 6,
   "metadata": {},
   "outputs": [],
   "source": [
    "filtered_words = []\n",
    "for token in tokens:\n",
    "    if token not in stop_words:\n",
    "        filtered_words.append(token)"
   ]
  },
  {
   "cell_type": "code",
   "execution_count": 7,
   "metadata": {},
   "outputs": [
    {
     "name": "stdout",
     "output_type": "stream",
     "text": [
      "Original Text: \n",
      " Stop words may be small, but they play a big role in NLP.\n",
      "\n",
      "Text without Stop Words: \n",
      " Stop words may small , play big role NLP .\n"
     ]
    }
   ],
   "source": [
    "print(\"Original Text: \\n\", text)\n",
    "print()\n",
    "print(\"Text without Stop Words: \\n\", ' '.join(filtered_words)) "
   ]
  },
  {
   "cell_type": "code",
   "execution_count": null,
   "metadata": {},
   "outputs": [],
   "source": []
  }
 ],
 "metadata": {
  "kernelspec": {
   "display_name": "Python 3",
   "language": "python",
   "name": "python3"
  },
  "language_info": {
   "codemirror_mode": {
    "name": "ipython",
    "version": 3
   },
   "file_extension": ".py",
   "mimetype": "text/x-python",
   "name": "python",
   "nbconvert_exporter": "python",
   "pygments_lexer": "ipython3",
   "version": "3.12.3"
  }
 },
 "nbformat": 4,
 "nbformat_minor": 2
}
